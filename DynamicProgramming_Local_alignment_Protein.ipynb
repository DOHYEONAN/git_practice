{
  "nbformat": 4,
  "nbformat_minor": 0,
  "metadata": {
    "colab": {
      "name": "DynamicProgramming Local alignment_Protein.ipynb",
      "version": "0.3.2",
      "provenance": [],
      "collapsed_sections": [],
      "include_colab_link": true
    },
    "kernelspec": {
      "name": "python3",
      "display_name": "Python 3"
    }
  },
  "cells": [
    {
      "cell_type": "markdown",
      "metadata": {
        "id": "view-in-github",
        "colab_type": "text"
      },
      "source": [
        "<a href=\"https://colab.research.google.com/github/DOHYEONAN/git_practice/blob/master/DynamicProgramming_Local_alignment_Protein.ipynb\" target=\"_parent\"><img src=\"https://colab.research.google.com/assets/colab-badge.svg\" alt=\"Open In Colab\"/></a>"
      ]
    },
    {
      "metadata": {
        "id": "fcclLCp5mXRF",
        "colab_type": "text"
      },
      "cell_type": "markdown",
      "source": [
        "# Protein alignment example from Durbin, et al. (1998)"
      ]
    },
    {
      "metadata": {
        "id": "5T9F6ww1le_3",
        "colab_type": "code",
        "outputId": "3c558f9b-0721-47ce-afd5-73991dc08202",
        "colab": {
          "base_uri": "https://localhost:8080/",
          "height": 266
        }
      },
      "cell_type": "code",
      "source": [
        "# Download the scoring matrix \n",
        "!wget https://raw.githubusercontent.com/taejoonlab/BME203.2019/master/data/BLOSUM62.txt\n",
        "!ls"
      ],
      "execution_count": 0,
      "outputs": [
        {
          "output_type": "stream",
          "text": [
            "--2019-03-10 16:54:38--  https://raw.githubusercontent.com/taejoonlab/BME203.2019/master/data/BLOSUM62.txt\n",
            "Resolving raw.githubusercontent.com (raw.githubusercontent.com)... 151.101.0.133, 151.101.64.133, 151.101.128.133, ...\n",
            "Connecting to raw.githubusercontent.com (raw.githubusercontent.com)|151.101.0.133|:443... connected.\n",
            "HTTP request sent, awaiting response... 200 OK\n",
            "Length: 2122 (2.1K) [text/plain]\n",
            "Saving to: ‘BLOSUM62.txt.4’\n",
            "\n",
            "\rBLOSUM62.txt.4        0%[                    ]       0  --.-KB/s               \rBLOSUM62.txt.4      100%[===================>]   2.07K  --.-KB/s    in 0s      \n",
            "\n",
            "2019-03-10 16:54:38 (37.2 MB/s) - ‘BLOSUM62.txt.4’ saved [2122/2122]\n",
            "\n",
            "BLOSUM62.txt\tBLOSUM62.txt.2\tBLOSUM62.txt.4\n",
            "BLOSUM62.txt.1\tBLOSUM62.txt.3\tsample_data\n"
          ],
          "name": "stdout"
        }
      ]
    },
    {
      "metadata": {
        "id": "dYMmSyd6oqPP",
        "colab_type": "code",
        "outputId": "a505da8a-eea3-4146-dc96-4436a8f6413a",
        "colab": {
          "base_uri": "https://localhost:8080/",
          "height": 457
        }
      },
      "cell_type": "code",
      "source": [
        "# Check the matrix\n",
        "!head -n 20 BLOSUM62.txt\n",
        "!tail -n 5 BLOSUM62.txt"
      ],
      "execution_count": 0,
      "outputs": [
        {
          "output_type": "stream",
          "text": [
            "#  Matrix made by matblas from blosum62.iij\n",
            "#  * column uses minimum score\n",
            "#  BLOSUM Clustered Scoring Matrix in 1/2 Bit Units\n",
            "#  Blocks Database = /data/blocks_5.0/blocks.dat\n",
            "#  Cluster Percentage: >= 62\n",
            "#  Entropy =   0.6979, Expected =  -0.5209\n",
            "   A  R  N  D  C  Q  E  G  H  I  L  K  M  F  P  S  T  W  Y  V  B  Z  X  *\n",
            "A  4 -1 -2 -2  0 -1 -1  0 -2 -1 -1 -1 -1 -2 -1  1  0 -3 -2  0 -2 -1  0 -4 \n",
            "R -1  5  0 -2 -3  1  0 -2  0 -3 -2  2 -1 -3 -2 -1 -1 -3 -2 -3 -1  0 -1 -4 \n",
            "N -2  0  6  1 -3  0  0  0  1 -3 -3  0 -2 -3 -2  1  0 -4 -2 -3  3  0 -1 -4 \n",
            "D -2 -2  1  6 -3  0  2 -1 -1 -3 -4 -1 -3 -3 -1  0 -1 -4 -3 -3  4  1 -1 -4 \n",
            "C  0 -3 -3 -3  9 -3 -4 -3 -3 -1 -1 -3 -1 -2 -3 -1 -1 -2 -2 -1 -3 -3 -2 -4 \n",
            "Q -1  1  0  0 -3  5  2 -2  0 -3 -2  1  0 -3 -1  0 -1 -2 -1 -2  0  3 -1 -4 \n",
            "E -1  0  0  2 -4  2  5 -2  0 -3 -3  1 -2 -3 -1  0 -1 -3 -2 -2  1  4 -1 -4 \n",
            "G  0 -2  0 -1 -3 -2 -2  6 -2 -4 -4 -2 -3 -3 -2  0 -2 -2 -3 -3 -1 -2 -1 -4 \n",
            "H -2  0  1 -1 -3  0  0 -2  8 -3 -3 -1 -2 -1 -2 -1 -2 -2  2 -3  0  0 -1 -4 \n",
            "I -1 -3 -3 -3 -1 -3 -3 -4 -3  4  2 -3  1  0 -3 -2 -1 -3 -1  3 -3 -3 -1 -4 \n",
            "L -1 -2 -3 -4 -1 -2 -3 -4 -3  2  4 -2  2  0 -3 -2 -1 -2 -1  1 -4 -3 -1 -4 \n",
            "K -1  2  0 -1 -3  1  1 -2 -1 -3 -2  5 -1 -3 -1  0 -1 -3 -2 -2  0  1 -1 -4 \n",
            "M -1 -1 -2 -3 -1  0 -2 -3 -2  1  2 -1  5  0 -2 -1 -1 -1 -1  1 -3 -1 -1 -4 \n",
            "V  0 -3 -3 -3 -1 -2 -2 -3 -3  3  1 -2  1 -1 -2 -2  0 -3 -1  4 -3 -2 -1 -4 \n",
            "B -2 -1  3  4 -3  0  1 -1  0 -3 -4  0 -3 -3 -2  0 -1 -4 -3 -3  4  1 -1 -4 \n",
            "Z -1  0  0  1 -3  3  4 -2  0 -3 -3  1 -1 -3 -1  0 -1 -3 -2 -2  1  4 -1 -4 \n",
            "X  0 -1 -1 -1 -2 -1 -1 -1 -1 -1 -1 -1 -1 -1 -2  0  0 -2 -1 -1 -1 -1 -1 -4 \n",
            "* -4 -4 -4 -4 -4 -4 -4 -4 -4 -4 -4 -4 -4 -4 -4 -4 -4 -4 -4 -4 -4 -4 -4  1 \n"
          ],
          "name": "stdout"
        }
      ]
    },
    {
      "metadata": {
        "id": "ODW4rUiiof8B",
        "colab_type": "code",
        "outputId": "457cf507-701d-49fa-d55f-8a9a2a783255",
        "colab": {
          "base_uri": "https://localhost:8080/",
          "height": 34
        }
      },
      "cell_type": "code",
      "source": [
        "# Prepare the scoring matrix 'scores'\n",
        "\n",
        "scores = dict()\n",
        "\n",
        "f_mat = open('BLOSUM62.txt', 'r')\n",
        "aa_tokens = []\n",
        "for line in f_mat:\n",
        "  if line.startswith('#'):\n",
        "    continue\n",
        "  elif line.startswith(' '):\n",
        "    aa_tokens = line.strip().split()\n",
        "  else:\n",
        "    tmp_tokens = line.strip().split()\n",
        "    for i in range(1, len(tmp_tokens)):\n",
        "      scores['%s%s' % (aa_tokens[i-1], tmp_tokens[0])] = int(tmp_tokens[i])\n",
        "f_mat.close()\n",
        "\n",
        "print(scores['*H'], scores['YY'], scores['WW'])"
      ],
      "execution_count": 0,
      "outputs": [
        {
          "output_type": "stream",
          "text": [
            "-4 7 11\n"
          ],
          "name": "stdout"
        }
      ]
    },
    {
      "metadata": {
        "id": "sp208CjWmg76",
        "colab_type": "code",
        "outputId": "1da35b91-8f3f-40f2-c33d-0cd0d5b71a64",
        "colab": {
          "base_uri": "https://localhost:8080/",
          "height": 298
        }
      },
      "cell_type": "code",
      "source": [
        "# Prepare the input sequences\n",
        "seq1 = 'HEAGAWGHEE'\n",
        "seq2 = 'PAWHEAE'\n",
        "\n",
        "# Prepare the matrix for (1) score and (2) directionality\n",
        "score_matrix = []\n",
        "direction_matrix = []\n",
        "\n",
        "for i in range(0, len(seq2)+1):\n",
        "  tmp_score_list = []\n",
        "  tmp_direction_list = []\n",
        "  for j in range(0, len(seq1)+1):\n",
        "    tmp_score_list.append(0)\n",
        "    tmp_direction_list.append('N')\n",
        "  score_matrix.append(tmp_score_list)\n",
        "  direction_matrix.append(tmp_direction_list)\n",
        "\n",
        "# Beautify the matrix output\n",
        "def print_str_matrix(tmp_mat):\n",
        "  for tmp_line in tmp_mat:\n",
        "    print(\" \".join([x.ljust(3, ' ') for x in tmp_line]))\n",
        "\n",
        "def print_matrix(tmp_mat):\n",
        "  for tmp_line in tmp_mat:\n",
        "    print(tmp_line)\n",
        "\n",
        "    \n",
        "print_matrix(score_matrix)\n",
        "print_str_matrix(direction_matrix)"
      ],
      "execution_count": 0,
      "outputs": [
        {
          "output_type": "stream",
          "text": [
            "[0, 0, 0, 0, 0, 0, 0, 0, 0, 0, 0]\n",
            "[0, 0, 0, 0, 0, 0, 0, 0, 0, 0, 0]\n",
            "[0, 0, 0, 0, 0, 0, 0, 0, 0, 0, 0]\n",
            "[0, 0, 0, 0, 0, 0, 0, 0, 0, 0, 0]\n",
            "[0, 0, 0, 0, 0, 0, 0, 0, 0, 0, 0]\n",
            "[0, 0, 0, 0, 0, 0, 0, 0, 0, 0, 0]\n",
            "[0, 0, 0, 0, 0, 0, 0, 0, 0, 0, 0]\n",
            "[0, 0, 0, 0, 0, 0, 0, 0, 0, 0, 0]\n",
            "N   N   N   N   N   N   N   N   N   N   N  \n",
            "N   N   N   N   N   N   N   N   N   N   N  \n",
            "N   N   N   N   N   N   N   N   N   N   N  \n",
            "N   N   N   N   N   N   N   N   N   N   N  \n",
            "N   N   N   N   N   N   N   N   N   N   N  \n",
            "N   N   N   N   N   N   N   N   N   N   N  \n",
            "N   N   N   N   N   N   N   N   N   N   N  \n",
            "N   N   N   N   N   N   N   N   N   N   N  \n"
          ],
          "name": "stdout"
        }
      ]
    },
    {
      "metadata": {
        "id": "ok-aoem_mlr0",
        "colab_type": "code",
        "outputId": "1cbbe011-04a4-4e33-b2a7-a2613b6a433f",
        "colab": {
          "base_uri": "https://localhost:8080/",
          "height": 334
        }
      },
      "cell_type": "code",
      "source": [
        "# Fill the matrix\n",
        "\n",
        "for j in range(0, len(seq2)+1):\n",
        "  for i in range(0, len(seq1)+1):\n",
        "    if i == 0 and j == 0:\n",
        "      score_matrix[i][j] = 0\n",
        "    elif i == 0:\n",
        "      # First column\n",
        "      tmp_aa = '%s%s' % ('*', seq2[j-1])\n",
        "      score_matrix[j][i] = 0\n",
        "      direction_matrix[j][i] = ''\n",
        "    elif j == 0:\n",
        "      # First row\n",
        "      tmp_aa = '%s%s' % (seq1[i-1], '*')\n",
        "      score_matrix[j][i] = 0\n",
        "      direction_matrix[j][i] = ''\n",
        "    else:\n",
        "      # For score\n",
        "      tmp_aa_L = '%s%s' % (seq1[i-1], '*')\n",
        "      tmp_score_L = score_matrix[j][i-1] + scores[tmp_aa_L]\n",
        "      tmp_aa_T = '%s%s' % ('*', seq2[j-1])\n",
        "      tmp_score_T = score_matrix[j-1][i] + scores[tmp_aa_T]\n",
        "      tmp_aa_D = '%s%s' % (seq1[i-1], seq2[j-1])\n",
        "      tmp_score_D = score_matrix[j-1][i-1] + scores[tmp_aa_D]\n",
        "      \n",
        "      max_score = max([tmp_score_L, tmp_score_T, tmp_score_D, 0])\n",
        "      score_matrix[j][i] = max_score\n",
        "      \n",
        "      # For direction\n",
        "      tmp_direction = ''\n",
        "      if max_score == tmp_score_L:\n",
        "        tmp_direction += 'L'\n",
        "      elif max_score == tmp_score_T:\n",
        "        tmp_direction += 'T'\n",
        "      if max_score == tmp_score_D:\n",
        "        tmp_direction += 'D'\n",
        "      direction_matrix[j][i] = tmp_direction\n",
        "\n",
        "print(\"Score Matrix\")\n",
        "print_matrix(score_matrix)\n",
        "\n",
        "print(\"Direction Matrix\")\n",
        "print_str_matrix(direction_matrix)"
      ],
      "execution_count": 0,
      "outputs": [
        {
          "output_type": "stream",
          "text": [
            "Score Matrix\n",
            "[0, 0, 0, 0, 0, 0, 0, 0, 0, 0, 0]\n",
            "[0, 0, 0, 0, 0, 0, 0, 0, 0, 0, 0]\n",
            "[0, 0, 0, 4, 0, 4, 0, 0, 0, 0, 0]\n",
            "[0, 0, 0, 0, 2, 0, 15, 11, 7, 3, 0]\n",
            "[0, 8, 4, 0, 0, 0, 11, 13, 19, 15, 11]\n",
            "[0, 4, 13, 9, 5, 1, 7, 9, 15, 24, 20]\n",
            "[0, 0, 9, 17, 13, 9, 5, 7, 11, 20, 23]\n",
            "[0, 0, 5, 13, 15, 12, 8, 4, 7, 16, 25]\n",
            "Direction Matrix\n",
            "N                                          \n",
            "                                           \n",
            "            D   LD  D   L   D              \n",
            "            T   D   T   D   L   L   L      \n",
            "    D   L   L       D   T   D   D   L   L  \n",
            "    T   D   L   L   L   T   TD  T   D   LD \n",
            "    T   T   D   L   LD  L   D   T   T   D  \n",
            "    D   TD  T   D   D   L   L   TD  TD  D  \n"
          ],
          "name": "stdout"
        }
      ]
    },
    {
      "metadata": {
        "id": "caIs2PbIS-KK",
        "colab_type": "code",
        "outputId": "d1985674-468c-4211-b935-2d74f4900023",
        "colab": {
          "base_uri": "https://localhost:8080/",
          "height": 87
        }
      },
      "cell_type": "code",
      "source": [
        "def opt ():\n",
        "  import random\n",
        "  \n",
        "  # First, make two empty lists for each sequences to include information about the optimum alignment. \n",
        "  optimum_1 = []\n",
        "  optimum_2 = []\n",
        "  \n",
        "  # Now we start to look for the optimum alignment from the bottom right corner.\n",
        "  # So, we set the current position to the element at the bottom right corner\n",
        "  #current_location_1 = len(seq1)\n",
        "  #current_location_2 = len(seq2)\n",
        "  \n",
        "  score = []\n",
        "  \n",
        "    \n",
        "  # Finding max value\n",
        "  compare_max = []\n",
        "  \n",
        "  for one_list in score_matrix:\n",
        "    compare_max.append(max(one_list))\n",
        "  max_value = max(compare_max)\n",
        "  \n",
        "  #print(max_value)\n",
        "  \n",
        "  for j in range(len(seq2)+1):\n",
        "    for i in range(len(seq1)+1):\n",
        "      if score_matrix[j][i] == max_value:\n",
        "        #print(j)\n",
        "        #print(i)\n",
        "        current_location_2 = j\n",
        "        current_location_1 = i\n",
        "        \n",
        "  print(\"Optimum alignment scores \" + str(max_value)+ \":\" )\n",
        "  \n",
        "  while True:\n",
        "    direction = direction_matrix[current_location_2][current_location_1]    \n",
        "    if direction == 'TD' or direction =='LD' or direction =='LTD' or direction == 'LT':\n",
        "      randombox = []\n",
        "      for ele in range(len(direction)):\n",
        "        randombox.append(direction[ele])\n",
        "        \n",
        "      direction_matrix[current_location_2][current_location_1] = random.choice(randombox)\n",
        "  \n",
        "    # Now we define what the first element is in optimum alignment.\n",
        "    # It depends on what direction the first element in matrix has.  \n",
        "    if direction_matrix[current_location_2][current_location_1] == 'D':\n",
        "      optimum_1.append(seq1[current_location_1 - 1])\n",
        "      optimum_2.append(seq2[current_location_2 - 1])\n",
        "      \n",
        "      score.append(score_matrix[current_location_2][current_location_1] - score_matrix[current_location_2 - 1][current_location_1 - 1])\n",
        "      \n",
        "      current_location_2 -= 1\n",
        "      current_location_1 -= 1\n",
        "      #Local alignment\n",
        "      if score_matrix[current_location_2][current_location_1] == 0:\n",
        "        break\n",
        "  \n",
        "    if direction_matrix[current_location_2][current_location_1] == 'L':\n",
        "      optimum_1.append(seq1[current_location_1 - 1])\n",
        "      optimum_2.append('-')\n",
        "      \n",
        "      score.append(score_matrix[current_location_2][current_location_1] - score_matrix[current_location_2][current_location_1 - 1])\n",
        "      \n",
        "      current_location_2 -= 0\n",
        "      current_location_1 -= 1\n",
        "      #Local alignment\n",
        "      if score_matrix[current_location_2][current_location_1] == 0:\n",
        "        break\n",
        "  \n",
        "    if direction_matrix[current_location_2][current_location_1] == 'T':\n",
        "      optimum_1.append('-')\n",
        "      optimum_2.append(seq2[current_location_2 - 1])\n",
        "      \n",
        "      score.append(score_matrix[current_location_2][current_location_1] - score_matrix[current_location_2 - 1][current_location_1])\n",
        "      \n",
        "      current_location_2 -= 1\n",
        "      current_location_1 -= 0\n",
        "      #Local alignment\n",
        "      if score_matrix[current_location_2][current_location_1] == 0:\n",
        "        break\n",
        "     \n",
        "  reverse_optimum_1 = optimum_1[::-1]\n",
        "  reverse_optimum_2 = optimum_2[::-1]\n",
        "  reverse_score = score[::-1]\n",
        "  \n",
        "\n",
        "    #print(optimum_2, end = \" \")\n",
        "    #print(optimum_1)\n",
        "  \n",
        "    #a='ABCD'\n",
        "    #print(a[::-1])\n",
        "    #prunt(a[0:2])\n",
        "    #print(a[-2:])\n",
        "  \n",
        "    #print(reverse_optimum_2)\n",
        "    #print(reverse_optimum_1)\n",
        "  \n",
        "  return reverse_optimum_1, reverse_optimum_2, reverse_score\n",
        "\n",
        "\n",
        "  \n",
        "reverse_optimum_1,reverse_optimum_2, score = opt()\n",
        "\n",
        "\n",
        "for ele in reverse_optimum_2:\n",
        "  print(ele, end = \"     \")\n",
        "print('')\n",
        "  \n",
        "for ele in reverse_optimum_1:\n",
        "  print(ele, end = \"     \")\n",
        "print('')\n",
        "\n",
        "for ele in score:\n",
        "  print(ele, end = \"    \")\n",
        "print('')\n",
        "\n"
      ],
      "execution_count": 0,
      "outputs": [
        {
          "output_type": "stream",
          "text": [
            "Optimum alignment scores 25:\n",
            "A     W     -     H     E     A     E     \n",
            "A     W     G     H     E     -     E     \n",
            "4    11    -4    8    5    -4    5    \n"
          ],
          "name": "stdout"
        }
      ]
    }
  ]
}